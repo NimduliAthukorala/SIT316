{
 "cells": [
  {
   "cell_type": "markdown",
   "metadata": {},
   "source": [
    "# World Problems solved using Python pulp"
   ]
  },
  {
   "cell_type": "markdown",
   "metadata": {},
   "source": [
    "### Import and setup data"
   ]
  },
  {
   "cell_type": "code",
   "execution_count": null,
   "metadata": {},
   "outputs": [],
   "source": [
    "#import important libraries\n",
    "from pulp import *\n",
    "import pandas as pd\n",
    "import numpy as np\n",
    "import re"
   ]
  },
  {
   "cell_type": "code",
   "execution_count": 2,
   "metadata": {},
   "outputs": [],
   "source": [
    "# read csv using pandas\n",
    "# make sure the csv file is in the same folder as the code and adjest the name accordingly\n",
    "df = pd.read_csv('WorkDistribution.csv')"
   ]
  },
  {
   "cell_type": "code",
   "execution_count": 3,
   "metadata": {},
   "outputs": [],
   "source": [
    "# copy the break times to a seperate numpy array\n",
    "breaks = df[\"breaks between works\"].to_numpy()"
   ]
  },
  {
   "cell_type": "code",
   "execution_count": 4,
   "metadata": {},
   "outputs": [],
   "source": [
    "# remove the columns that are not needed from the dataframe\n",
    "df = df.drop(columns=\"Unnamed: 0\")\n",
    "df = df.drop(columns=\"breaks between works\")"
   ]
  },
  {
   "cell_type": "code",
   "execution_count": 5,
   "metadata": {},
   "outputs": [],
   "source": [
    "# define the size of the data used\n",
    "num_works_index = len(df.columns)\n",
    "num_machines_index = len(df)"
   ]
  },
  {
   "cell_type": "code",
   "execution_count": 6,
   "metadata": {},
   "outputs": [],
   "source": [
    "# copy the fixed times to an array of list to make it easy to access \n",
    "pd.DataFrame(df)\n",
    "fixed_times = []\n",
    "for column_index in df:\n",
    "    current_fixed = []\n",
    "    for row in df[column_index]:\n",
    "        current_fixed.append(row)\n",
    "    fixed_times.append(current_fixed)"
   ]
  },
  {
   "cell_type": "markdown",
   "metadata": {},
   "source": [
    "### Define problem and variables"
   ]
  },
  {
   "cell_type": "code",
   "execution_count": 7,
   "metadata": {},
   "outputs": [],
   "source": [
    "# define the problem as a minimization and name the problem\n",
    "optimal_work_distribution = LpProblem(\"Optimal_Work_Distribution\", LpMinimize)"
   ]
  },
  {
   "cell_type": "code",
   "execution_count": 8,
   "metadata": {},
   "outputs": [],
   "source": [
    "# define variables in the form of a dict for each machine status for every work\n",
    "all_works = []\n",
    "for x in range(num_works_index):\n",
    "    var = str(\"work_\" + str(x+1))\n",
    "    var = LpVariable.dicts(var, range(0, num_machines_index),cat='Binary')\n",
    "    all_works.append(var)"
   ]
  },
  {
   "cell_type": "code",
   "execution_count": 9,
   "metadata": {},
   "outputs": [],
   "source": [
    "# define variables for the number of breaks taken by each machine\n",
    "all_breaks = []\n",
    "for x in range(num_machines_index):\n",
    "    var = str(\"break_\" + str(x+1))\n",
    "    var = LpVariable(var, cat='Integer', lowBound = 0)\n",
    "    all_breaks.append(var)"
   ]
  },
  {
   "cell_type": "markdown",
   "metadata": {},
   "source": [
    "### Define Objective Function"
   ]
  },
  {
   "cell_type": "code",
   "execution_count": 10,
   "metadata": {},
   "outputs": [],
   "source": [
    "# define the objective function\n",
    "optimal_work_distribution += (lpSum([(all_works[i][j] * (fixed_times[i][j])) \n",
    "                                     for i in range (num_works_index) \n",
    "                                     for j in range(num_machines_index)]) + \n",
    "                              ((all_breaks[k]) * (breaks[k]) for k in range (num_machines_index)))"
   ]
  },
  {
   "cell_type": "markdown",
   "metadata": {},
   "source": [
    "### Define Constraints"
   ]
  },
  {
   "cell_type": "code",
   "execution_count": 11,
   "metadata": {},
   "outputs": [],
   "source": [
    "# define constraints to ensures each work is done exacly one time \n",
    "for x in range(num_works_index):\n",
    "    optimal_work_distribution += lpSum([all_works[x][i] for i in range(0, num_machines_index)]) == 1"
   ]
  },
  {
   "cell_type": "code",
   "execution_count": 12,
   "metadata": {},
   "outputs": [],
   "source": [
    "# define constraints to endure the total breaks is one less than the total works using each machine\n",
    "for x in range(num_machines_index):\n",
    "    optimal_work_distribution += all_breaks[x] + 1 == lpSum([all_works[i][x] \n",
    "                                                             for i in range(num_works_index)])"
   ]
  },
  {
   "cell_type": "markdown",
   "metadata": {},
   "source": [
    "### Solve problem and display information"
   ]
  },
  {
   "cell_type": "code",
   "execution_count": 32,
   "metadata": {},
   "outputs": [
    {
     "name": "stdout",
     "output_type": "stream",
     "text": [
      "Solution: Optimal\n",
      "\n",
      "Minimum time taken in minutes: 272.0\n",
      "\n",
      "Machine 1 : took 2 breaks\n",
      "Machine 3 : took 1 breaks\n",
      "Machine 5 : took 3 breaks\n",
      "\n",
      "Work 10 : runs on machine 5\n",
      "\n",
      "Work 11 : runs on machine 1\n",
      "\n",
      "Work 12 : runs on machine 6\n",
      "\n",
      "Work 13 : runs on machine 2\n",
      "\n",
      "Work 14 : runs on machine 4\n",
      "\n",
      "Work 15 : runs on machine 9\n",
      "\n",
      "Work 1 : runs on machine 3\n",
      "\n",
      "Work 2 : runs on machine 5\n",
      "\n",
      "Work 3 : runs on machine 3\n",
      "\n",
      "Work 4 : runs on machine 1\n",
      "\n",
      "Work 5 : runs on machine 5\n",
      "\n",
      "Work 6 : runs on machine 1\n",
      "\n",
      "Work 7 : runs on machine 5\n",
      "\n",
      "Work 8 : runs on machine 8\n",
      "\n",
      "Work 9 : runs on machine 7\n"
     ]
    }
   ],
   "source": [
    "# solve the problem\n",
    "status = optimal_work_distribution.solve()\n",
    "\n",
    "# display status of the problem\n",
    "print(f\"Solution: {LpStatus[status]}\")\n",
    "\n",
    "# display the optimal time taken\n",
    "print(f\"\\nMinimum time taken in minutes: {optimal_work_distribution.objective.value()}\\n\")\n",
    "\n",
    "# loop throught the variables and display the important informatiom\n",
    "for v in optimal_work_distribution.variables():\n",
    "    if (f\"{v.value()}\") != '0.0':\n",
    "        if not (\"break\" in v.name):\n",
    "            display_work = re.search('work_(.*)_', v.name)\n",
    "            display_machine = re.search('_(.*)', v.name)\n",
    "            display_machine_1 = re.search('_(.*)',display_machine.group(1))\n",
    "            print(f\"\\nWork {display_work.group(1)} : runs on machine {int(display_machine_1.group(1))+1}\")\n",
    "        else:\n",
    "            display_break = re.search('break_(.*)', v.name) \n",
    "            print(f\"Machine {display_break.group(1)} : took {int(v.value())} breaks\")\n",
    "            "
   ]
  },
  {
   "cell_type": "code",
   "execution_count": null,
   "metadata": {},
   "outputs": [],
   "source": []
  }
 ],
 "metadata": {
  "kernelspec": {
   "display_name": "Python 3",
   "language": "python",
   "name": "python3"
  },
  "language_info": {
   "codemirror_mode": {
    "name": "ipython",
    "version": 3
   },
   "file_extension": ".py",
   "mimetype": "text/x-python",
   "name": "python",
   "nbconvert_exporter": "python",
   "pygments_lexer": "ipython3",
   "version": "3.8.5"
  }
 },
 "nbformat": 4,
 "nbformat_minor": 4
}
